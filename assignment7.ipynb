{
 "cells": [
  {
   "cell_type": "markdown",
   "id": "a2bcd5b8",
   "metadata": {},
   "source": [
    "Reverse words in a given String in Python"
   ]
  },
  {
   "cell_type": "code",
   "execution_count": 6,
   "id": "4cf40794",
   "metadata": {},
   "outputs": [
    {
     "name": "stdout",
     "output_type": "stream",
     "text": [
      "rtre\n"
     ]
    }
   ],
   "source": [
    "def reverse(str):\n",
    "    str_new = ''\n",
    "    for i in str:\n",
    "        str_new = i +str_new\n",
    "    return str_new\n",
    "str = 'ertr'\n",
    "print(reverse(str))\n",
    "        \n",
    "        \n",
    "          \n"
   ]
  },
  {
   "cell_type": "markdown",
   "id": "00989d99",
   "metadata": {},
   "source": [
    "Ways to remove i’th character from string in Python"
   ]
  },
  {
   "cell_type": "code",
   "execution_count": 11,
   "id": "41323933",
   "metadata": {},
   "outputs": [
    {
     "name": "stdout",
     "output_type": "stream",
     "text": [
      "abdef\n"
     ]
    }
   ],
   "source": [
    "str = 'abcdef'\n",
    "new_str = str[:2] + str[3:]\n",
    "print(new_str)"
   ]
  },
  {
   "cell_type": "code",
   "execution_count": 16,
   "id": "41764614",
   "metadata": {},
   "outputs": [
    {
     "name": "stdout",
     "output_type": "stream",
     "text": [
      "mokha\n"
     ]
    }
   ],
   "source": [
    "st = 'moksha'\n",
    "new_st = ''\n",
    "\n",
    "for i in range(0,len(st)):\n",
    "    \n",
    "    if i != 3:\n",
    "        \n",
    "        new_st = new_st + st[i]\n",
    "        \n",
    "print(new_st)"
   ]
  },
  {
   "cell_type": "markdown",
   "id": "193ae772",
   "metadata": {},
   "source": [
    "Python | Check if a Substring is Present in a Given String"
   ]
  },
  {
   "cell_type": "code",
   "execution_count": 17,
   "id": "15f8c3e6",
   "metadata": {},
   "outputs": [
    {
     "name": "stdout",
     "output_type": "stream",
     "text": [
      "true\n"
     ]
    }
   ],
   "source": [
    "s = 'hello world '\n",
    "sub = 'world'\n",
    "if sub in s:\n",
    "    print('true')\n",
    "else :\n",
    "    print(\"false\")"
   ]
  },
  {
   "cell_type": "markdown",
   "id": "3de7c0bb",
   "metadata": {},
   "source": [
    "Python – Words Frequency in String Shorthands\n"
   ]
  },
  {
   "cell_type": "code",
   "execution_count": 1,
   "id": "91cf6686",
   "metadata": {},
   "outputs": [
    {
     "name": "stdout",
     "output_type": "stream",
     "text": [
      "{'hi': 2, 'bye': 2}\n"
     ]
    }
   ],
   "source": [
    "s = 'hi hi bye bye'\n",
    "frq = {key:s.count(key) for key in s.split()}\n",
    "print(frq)"
   ]
  },
  {
   "cell_type": "markdown",
   "id": "0fea3276",
   "metadata": {},
   "source": [
    "Python – Convert Snake case to Pascal case"
   ]
  },
  {
   "cell_type": "code",
   "execution_count": 4,
   "id": "e7e71094",
   "metadata": {},
   "outputs": [
    {
     "name": "stdout",
     "output_type": "stream",
     "text": [
      "Figghhj\n"
     ]
    }
   ],
   "source": [
    "s = 'fig_gh_hj_'\n",
    "new_s = s.replace('_','').title()\n",
    "new_s = new_s.replace('','')\n",
    "print(new_s)"
   ]
  },
  {
   "cell_type": "markdown",
   "id": "b49d62ad",
   "metadata": {},
   "source": [
    "Find length of a string in python (4 ways)"
   ]
  },
  {
   "cell_type": "code",
   "execution_count": 6,
   "id": "ba8529d5",
   "metadata": {},
   "outputs": [
    {
     "data": {
      "text/plain": [
       "9"
      ]
     },
     "execution_count": 6,
     "metadata": {},
     "output_type": "execute_result"
    }
   ],
   "source": [
    "s = 'uhfddghjj'\n",
    "len(s)"
   ]
  },
  {
   "cell_type": "code",
   "execution_count": 8,
   "id": "0d0d6063",
   "metadata": {},
   "outputs": [
    {
     "name": "stdout",
     "output_type": "stream",
     "text": [
      "7\n"
     ]
    }
   ],
   "source": [
    "def length(s):\n",
    "    \n",
    "    count = 0\n",
    "    \n",
    "    for i in s:\n",
    "        \n",
    "        count += 1\n",
    "    return count\n",
    "\n",
    "s = 'dfghjkl'\n",
    "\n",
    "print(length(s))"
   ]
  },
  {
   "cell_type": "code",
   "execution_count": 11,
   "id": "ae8fdaea",
   "metadata": {},
   "outputs": [
    {
     "name": "stdout",
     "output_type": "stream",
     "text": [
      "9\n"
     ]
    }
   ],
   "source": [
    "def length(str):\n",
    "    counter = 0\n",
    "    while str[counter:]:\n",
    "        counter += 1\n",
    "    return counter\n",
    "  \n",
    "str = \"asdfghjkl\"\n",
    "print(length(str))"
   ]
  },
  {
   "cell_type": "code",
   "execution_count": 10,
   "id": "48ec6214",
   "metadata": {},
   "outputs": [
    {
     "name": "stdout",
     "output_type": "stream",
     "text": [
      "8\n"
     ]
    }
   ],
   "source": [
    "def Len(s):\n",
    "    if not s:\n",
    "        return 0\n",
    "    else:\n",
    "        some_random_s = 'py'\n",
    "        return ((some_random_s).join(s)).count(some_random_s) + 1\n",
    "  \n",
    "s = \"ertyuiop\"\n",
    "print(Len(s))\n"
   ]
  },
  {
   "cell_type": "markdown",
   "id": "066ee7c1",
   "metadata": {},
   "source": [
    "Python program to print even length words in a string"
   ]
  },
  {
   "cell_type": "code",
   "execution_count": 19,
   "id": "ca06adcc",
   "metadata": {},
   "outputs": [
    {
     "name": "stdout",
     "output_type": "stream",
     "text": [
      "Python\n",
      "is\n",
      "an\n",
      "language\n",
      "None\n"
     ]
    }
   ],
   "source": [
    "def even_word(s):\n",
    "    \n",
    "    s = s.split()\n",
    "    \n",
    "    for i in s:\n",
    "        \n",
    "        if len(i)%2 == 0:\n",
    "            \n",
    "            print(i)\n",
    "            \n",
    "s = ' Python is an interpreted programming language '\n",
    "print(even_word(s))\n",
    "    \n",
    "        "
   ]
  },
  {
   "cell_type": "markdown",
   "id": "925c2d75",
   "metadata": {},
   "source": [
    "Python program to accept the strings which contains all vowels"
   ]
  },
  {
   "cell_type": "code",
   "execution_count": 26,
   "id": "7ef2e275",
   "metadata": {},
   "outputs": [
    {
     "name": "stdout",
     "output_type": "stream",
     "text": [
      "eaeuiouioea\n",
      " accept\n",
      "ramdoM\n",
      "not accept\n"
     ]
    }
   ],
   "source": [
    "def checkstring(s):\n",
    "    s = s.lower()\n",
    "    v = set('aeiou')\n",
    "    for i in s:\n",
    "        if i in v:\n",
    "            v.remove(i)\n",
    "    if len(v) == 0:\n",
    "            print(' accept')\n",
    "    else:\n",
    "            print('not accept')\n",
    "s = 'eaeuiouioea'\n",
    "print(s)\n",
    "checkstring(s)\n",
    "s1 = 'ramdoM'\n",
    "print(s1)\n",
    "checkstring(s1)\n"
   ]
  },
  {
   "cell_type": "markdown",
   "id": "55b3b892",
   "metadata": {},
   "source": [
    "Python | Count the Number of matching characters in a pair of string"
   ]
  },
  {
   "cell_type": "code",
   "execution_count": 35,
   "id": "de8dc9d3",
   "metadata": {},
   "outputs": [
    {
     "data": {
      "text/plain": [
       "4"
      ]
     },
     "execution_count": 35,
     "metadata": {},
     "output_type": "execute_result"
    }
   ],
   "source": [
    "s1=\"asdfgh\"\n",
    "s2=\"dfghjk\"\n",
    "char_s1=set(s1)\n",
    "char_s2=set(s2)    \n",
    "common_char= char_s1 & char_s2\n",
    "len(common_char)"
   ]
  },
  {
   "cell_type": "markdown",
   "id": "4af9693c",
   "metadata": {},
   "source": [
    "Remove all duplicates from a given string in Python\n"
   ]
  },
  {
   "cell_type": "code",
   "execution_count": 36,
   "id": "6017b10a",
   "metadata": {},
   "outputs": [
    {
     "name": "stdout",
     "output_type": "stream",
     "text": [
      "{'s', 'b', 'w', 'i', 'u', 'g', 'r', 'f', 'e', 'a', 'd', 'j', 'y', 'q'}\n"
     ]
    }
   ],
   "source": [
    "s = 'wryuijbgfdswerdaawaq'\n",
    "s = set(s)\n",
    "print(s)\n"
   ]
  }
 ],
 "metadata": {
  "kernelspec": {
   "display_name": "Python 3",
   "language": "python",
   "name": "python3"
  },
  "language_info": {
   "codemirror_mode": {
    "name": "ipython",
    "version": 3
   },
   "file_extension": ".py",
   "mimetype": "text/x-python",
   "name": "python",
   "nbconvert_exporter": "python",
   "pygments_lexer": "ipython3",
   "version": "3.8.8"
  }
 },
 "nbformat": 4,
 "nbformat_minor": 5
}
