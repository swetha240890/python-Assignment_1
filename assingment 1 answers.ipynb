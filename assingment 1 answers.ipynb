{
 "cells": [
  {
   "cell_type": "markdown",
   "id": "334ba629",
   "metadata": {},
   "source": [
    "1.\tWrite a Python program to find those numbers which are divisible by 7 and multiple of 5, between 1500 and 2700 (both included)."
   ]
  },
  {
   "cell_type": "code",
   "execution_count": 16,
   "id": "63cf9794",
   "metadata": {},
   "outputs": [
    {
     "name": "stdout",
     "output_type": "stream",
     "text": [
      "1505 \n",
      "1540 \n",
      "1575 \n",
      "1610 \n",
      "1645 \n",
      "1680 \n",
      "1715 \n",
      "1750 \n",
      "1785 \n",
      "1820 \n",
      "1855 \n",
      "1890 \n",
      "1925 \n",
      "1960 \n",
      "1995 \n",
      "2030 \n",
      "2065 \n",
      "2100 \n",
      "2135 \n",
      "2170 \n",
      "2205 \n",
      "2240 \n",
      "2275 \n",
      "2310 \n",
      "2345 \n",
      "2380 \n",
      "2415 \n",
      "2450 \n",
      "2485 \n",
      "2520 \n",
      "2555 \n",
      "2590 \n",
      "2625 \n",
      "2660 \n",
      "2695 \n"
     ]
    }
   ],
   "source": [
    "\n",
    "for x in range(1500,2701):\n",
    "    if x%7 == 0 and x%5 == 0 :\n",
    "      print(x,'')\n",
    "    "
   ]
  },
  {
   "cell_type": "markdown",
   "id": "b376f973",
   "metadata": {},
   "source": [
    "2.\tPython program to add two numbers"
   ]
  },
  {
   "cell_type": "code",
   "execution_count": 19,
   "id": "509d257d",
   "metadata": {},
   "outputs": [
    {
     "data": {
      "text/plain": [
       "9"
      ]
     },
     "execution_count": 19,
     "metadata": {},
     "output_type": "execute_result"
    }
   ],
   "source": [
    "def fun_sum(a,b):\n",
    "    c = a+b\n",
    "    return c\n",
    "fun_sum(4,5)\n"
   ]
  },
  {
   "cell_type": "markdown",
   "id": "f7c8f192",
   "metadata": {},
   "source": [
    "3.\tMaximum of two numbers in Python"
   ]
  },
  {
   "cell_type": "code",
   "execution_count": 20,
   "id": "b36b12c6",
   "metadata": {},
   "outputs": [
    {
     "data": {
      "text/plain": [
       "7"
      ]
     },
     "execution_count": 20,
     "metadata": {},
     "output_type": "execute_result"
    }
   ],
   "source": [
    "list = [3,7]\n",
    "max(list)"
   ]
  },
  {
   "cell_type": "raw",
   "id": "9bfc09a1",
   "metadata": {},
   "source": [
    "or"
   ]
  },
  {
   "cell_type": "code",
   "execution_count": 22,
   "id": "cf62b871",
   "metadata": {},
   "outputs": [
    {
     "data": {
      "text/plain": [
       "8"
      ]
     },
     "execution_count": 22,
     "metadata": {},
     "output_type": "execute_result"
    }
   ],
   "source": [
    "def number(a,b):\n",
    "    c = max(a,b)\n",
    "    return c\n",
    "number(3,8)"
   ]
  },
  {
   "cell_type": "markdown",
   "id": "b36c8196",
   "metadata": {},
   "source": [
    "4.\tPython Program for factorial of a number"
   ]
  },
  {
   "cell_type": "code",
   "execution_count": 50,
   "id": "73eef876",
   "metadata": {},
   "outputs": [
    {
     "name": "stdout",
     "output_type": "stream",
     "text": [
      "enter the number :7\n",
      "5040\n"
     ]
    }
   ],
   "source": [
    "n = int(input('enter the number :'))\n",
    "f = 1 \n",
    "if int(n) >= 1:\n",
    "    for i in range(1,n+1) :\n",
    "        f = f*i \n",
    "    \n",
    "    print(f)"
   ]
  },
  {
   "cell_type": "code",
   "execution_count": null,
   "id": "ec6771f7",
   "metadata": {},
   "outputs": [],
   "source": [
    "def fact(n):\n",
    "    f = 1\n",
    "    for i in range(1,n+1):\n",
    "        f = f*i \n",
    "    return f\n",
    "fact(5)\n"
   ]
  },
  {
   "cell_type": "markdown",
   "id": "744b0a54",
   "metadata": {},
   "source": [
    "5.\tPython Program for simple interest"
   ]
  },
  {
   "cell_type": "code",
   "execution_count": 53,
   "id": "e2e86268",
   "metadata": {},
   "outputs": [
    {
     "data": {
      "text/plain": [
       "600.0"
      ]
     },
     "execution_count": 53,
     "metadata": {},
     "output_type": "execute_result"
    }
   ],
   "source": [
    "def fun_si(p,n,r):\n",
    "    i = (p*n*r)/100\n",
    "    return i\n",
    "fun_si(2000,5,6)\n"
   ]
  },
  {
   "cell_type": "code",
   "execution_count": 55,
   "id": "d0c9f72b",
   "metadata": {},
   "outputs": [
    {
     "name": "stdout",
     "output_type": "stream",
     "text": [
      "enter the principal amount2000\n",
      "enter the time span5\n",
      "enter the rate6\n",
      "simple interest is : 600.0\n"
     ]
    }
   ],
   "source": [
    "p = float(input(\"enter the principal amount\"))\n",
    "n = float(input(\"enter the time span\"))\n",
    "r = float(input(\"enter the rate\"))\n",
    "SI = (p*n*r)/100\n",
    "print(\"simple interest is :\", SI)"
   ]
  },
  {
   "cell_type": "markdown",
   "id": "496bde67",
   "metadata": {},
   "source": [
    "6.\tPython Program for compound interest"
   ]
  },
  {
   "cell_type": "code",
   "execution_count": 4,
   "id": "841e4d74",
   "metadata": {},
   "outputs": [
    {
     "name": "stdout",
     "output_type": "stream",
     "text": [
      "enter the principal amount1200\n",
      "enter the time span2\n",
      "enter the rate5.4\n",
      "133.0992000000001\n"
     ]
    }
   ],
   "source": [
    "p = float(input(\"enter the principal amount :\"))\n",
    "t = float(input(\"enter the time span :\"))\n",
    "r = float(input(\"enter the rate :\"))\n",
    "CI = (p*(1+(r/100))**t)-p\n",
    "print(CI)"
   ]
  },
  {
   "cell_type": "markdown",
   "id": "8bdd3481",
   "metadata": {},
   "source": [
    "7.\tPython Program to check Armstrong Number\n"
   ]
  },
  {
   "cell_type": "code",
   "execution_count": 6,
   "id": "fdb0c8f9",
   "metadata": {},
   "outputs": [
    {
     "name": "stdout",
     "output_type": "stream",
     "text": [
      "Enter the number :153\n",
      "The number 153 is a armstrong number\n"
     ]
    }
   ],
   "source": [
    "num = int(input(\"Enter the number :\"))\n",
    "temp = num \n",
    "cnt = 0\n",
    "while temp > 0:\n",
    "    cnt = cnt+1\n",
    "    temp = temp // 10\n",
    "\n",
    "sum = 0\n",
    "temp = num\n",
    "while temp > 0:\n",
    "    rem = temp % 10\n",
    "    sum = sum + pow(rem,cnt)\n",
    "    temp = temp // 10\n",
    "if (num == sum):\n",
    "    print(\"The number\",num ,\"is a armstrong number\")\n",
    "else :\n",
    "     print(\"The number\",num ,\"is not a armstrong number\")"
   ]
  },
  {
   "cell_type": "markdown",
   "id": "418211de",
   "metadata": {},
   "source": [
    "8.\tPython Program for Program to find area of a circle\n"
   ]
  },
  {
   "cell_type": "code",
   "execution_count": 14,
   "id": "3a17c147",
   "metadata": {},
   "outputs": [
    {
     "name": "stdout",
     "output_type": "stream",
     "text": [
      "enter the radius of the circle :6\n",
      "area of the circle = 113.04\n"
     ]
    }
   ],
   "source": [
    "radi = float(input(\"enter the radius of the circle :\"))\n",
    "PI = 3.14\n",
    "area = PI*radi**2\n",
    "print('area of the circle =',area)"
   ]
  },
  {
   "cell_type": "markdown",
   "id": "e1f86002",
   "metadata": {},
   "source": [
    "9.\tPython program to print all Prime numbers in an Interva\n"
   ]
  },
  {
   "cell_type": "code",
   "execution_count": 8,
   "id": "708d1fe5",
   "metadata": {},
   "outputs": [
    {
     "name": "stdout",
     "output_type": "stream",
     "text": [
      "enter the lower number2\n",
      "enter the upper number100\n",
      "2\n",
      "3\n",
      "5\n",
      "7\n",
      "11\n",
      "13\n",
      "17\n",
      "19\n",
      "23\n",
      "29\n",
      "31\n",
      "37\n",
      "41\n",
      "43\n",
      "47\n",
      "53\n",
      "59\n",
      "61\n",
      "67\n",
      "71\n",
      "73\n",
      "79\n",
      "83\n",
      "89\n",
      "97\n"
     ]
    }
   ],
   "source": [
    "lower = int(input('enter the lower number'))\n",
    "upper = int(input('enter the upper number'))\n",
    "for num in range(lower,upper+1):\n",
    "    for x in range(2,num):\n",
    "        if num%x == 0:\n",
    "            break\n",
    "    else:\n",
    "        print(num)\n",
    "    "
   ]
  },
  {
   "cell_type": "markdown",
   "id": "7e032d04",
   "metadata": {},
   "source": [
    "Python program to check whether a number is Prime or not\n"
   ]
  },
  {
   "cell_type": "code",
   "execution_count": 10,
   "id": "ea895aa0",
   "metadata": {},
   "outputs": [
    {
     "name": "stdout",
     "output_type": "stream",
     "text": [
      "enter the number =3\n",
      "3 is prime number\n"
     ]
    }
   ],
   "source": [
    "num = int(input('enter the number ='))\n",
    "for x in range(2,num+1):\n",
    "    if num%x == 0:\n",
    "        break\n",
    "        print(num ,'is not a prime number')\n",
    "    else:\n",
    "        print(num ,'is prime number')\n"
   ]
  },
  {
   "cell_type": "code",
   "execution_count": null,
   "id": "ebddcb52",
   "metadata": {},
   "outputs": [],
   "source": []
  }
 ],
 "metadata": {
  "kernelspec": {
   "display_name": "Python 3",
   "language": "python",
   "name": "python3"
  },
  "language_info": {
   "codemirror_mode": {
    "name": "ipython",
    "version": 3
   },
   "file_extension": ".py",
   "mimetype": "text/x-python",
   "name": "python",
   "nbconvert_exporter": "python",
   "pygments_lexer": "ipython3",
   "version": "3.8.8"
  }
 },
 "nbformat": 4,
 "nbformat_minor": 5
}
