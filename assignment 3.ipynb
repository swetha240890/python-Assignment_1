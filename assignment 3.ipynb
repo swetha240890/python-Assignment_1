{
 "cells": [
  {
   "cell_type": "markdown",
   "id": "25f8b875",
   "metadata": {},
   "source": [
    "Python Program for Find reminder of array multiplication divided by n"
   ]
  },
  {
   "cell_type": "code",
   "execution_count": 28,
   "id": "0c73e30e",
   "metadata": {},
   "outputs": [
    {
     "name": "stdout",
     "output_type": "stream",
     "text": [
      "enter the number =5\n",
      "1\n"
     ]
    }
   ],
   "source": [
    "n = int(input('enter the number ='))\n",
    "def mul(my_array):\n",
    "    a = 1\n",
    "    for i in array:\n",
    "        a = (a * i)%n\n",
    "    return a\n",
    "array = [1,8,7,9,4]\n",
    "print(mul(array))\n"
   ]
  },
  {
   "cell_type": "markdown",
   "id": "fee6d922",
   "metadata": {},
   "source": [
    "Python Program to check if given array is Monotonic"
   ]
  },
  {
   "cell_type": "code",
   "execution_count": 59,
   "id": "1b1b90ba",
   "metadata": {},
   "outputs": [
    {
     "name": "stdout",
     "output_type": "stream",
     "text": [
      "False\n"
     ]
    }
   ],
   "source": [
    "def isMonotonic(A):\n",
    " \n",
    "    return (all(A[i] <= A[i + 1] for i in range(len(A) - 1)) or\n",
    "            all(A[i] >= A[i + 1] for i in range(len(A) - 1)))\n",
    " \n",
    "A = [2,5,3,7]\n",
    " \n",
    "print(isMonotonic(A))"
   ]
  },
  {
   "cell_type": "markdown",
   "id": "774343ce",
   "metadata": {},
   "source": [
    "Python program to interchange first and last elements in a list"
   ]
  },
  {
   "cell_type": "code",
   "execution_count": 65,
   "id": "4ff6cd68",
   "metadata": {},
   "outputs": [
    {
     "name": "stdout",
     "output_type": "stream",
     "text": [
      "[9, 7, 8, 0, 4]\n"
     ]
    }
   ],
   "source": [
    "def swap(list):\n",
    "    list[0],list[-1] = list[-1],list[0]\n",
    "    return list\n",
    "list = [4,7,8,0,9]\n",
    "print(swap(list))\n",
    "\n"
   ]
  },
  {
   "cell_type": "markdown",
   "id": "79b2007d",
   "metadata": {},
   "source": [
    "Python program to swap two elements in a list"
   ]
  },
  {
   "cell_type": "code",
   "execution_count": 66,
   "id": "57c1486f",
   "metadata": {},
   "outputs": [
    {
     "name": "stdout",
     "output_type": "stream",
     "text": [
      "[6, 9, 8, 0, 4]\n"
     ]
    }
   ],
   "source": [
    "def swap(list):\n",
    "    list[0],list[1] = list[1],list[0]\n",
    "    return list\n",
    "list = [9,6,8,0,4]\n",
    "print(swap(list))\n",
    "\n"
   ]
  },
  {
   "cell_type": "markdown",
   "id": "2ed72380",
   "metadata": {},
   "source": [
    "write a program to find length of list\n"
   ]
  },
  {
   "cell_type": "code",
   "execution_count": 82,
   "id": "e72cca34",
   "metadata": {},
   "outputs": [
    {
     "data": {
      "text/plain": [
       "5"
      ]
     },
     "execution_count": 82,
     "metadata": {},
     "output_type": "execute_result"
    }
   ],
   "source": [
    "list = [5,8,9,4,3]\n",
    "len(list)\n"
   ]
  },
  {
   "cell_type": "markdown",
   "id": "9ea6fc55",
   "metadata": {},
   "source": [
    "write a program to check if element exists in list"
   ]
  },
  {
   "cell_type": "code",
   "execution_count": 89,
   "id": "0765367b",
   "metadata": {},
   "outputs": [
    {
     "name": "stdout",
     "output_type": "stream",
     "text": [
      "6 exists in list\n"
     ]
    }
   ],
   "source": [
    "list_1 = [5,8,9,7,6]\n",
    "if 6 in list_1 :\n",
    "    print('6 exists in list')\n",
    "else:\n",
    "    print('6 is not exists in list')"
   ]
  },
  {
   "cell_type": "markdown",
   "id": "1d6ba4ec",
   "metadata": {},
   "source": [
    "write a program to clear a list in Python"
   ]
  },
  {
   "cell_type": "code",
   "execution_count": 91,
   "id": "61cf3e82",
   "metadata": {},
   "outputs": [
    {
     "name": "stdout",
     "output_type": "stream",
     "text": [
      "[]\n"
     ]
    }
   ],
   "source": [
    "list = [6,8,9,6]\n",
    "list.clear()\n",
    "print(list)"
   ]
  },
  {
   "cell_type": "markdown",
   "id": "05ed72cc",
   "metadata": {},
   "source": [
    "write a program to Reversing a List"
   ]
  },
  {
   "cell_type": "code",
   "execution_count": 93,
   "id": "11216d87",
   "metadata": {},
   "outputs": [
    {
     "name": "stdout",
     "output_type": "stream",
     "text": [
      "[9, 8, 6, 5, 4]\n"
     ]
    }
   ],
   "source": [
    "def reverse(lst):\n",
    "    lst.reverse()\n",
    "    return lst\n",
    "lst = [4,5,6,8,9]\n",
    "print(reverse(lst))\n",
    "\n"
   ]
  },
  {
   "cell_type": "markdown",
   "id": "e5ffa656",
   "metadata": {},
   "source": [
    "write a program to find sum of elements in list"
   ]
  },
  {
   "cell_type": "code",
   "execution_count": 94,
   "id": "f5800abc",
   "metadata": {},
   "outputs": [
    {
     "data": {
      "text/plain": [
       "16"
      ]
     },
     "execution_count": 94,
     "metadata": {},
     "output_type": "execute_result"
    }
   ],
   "source": [
    "list = [5,6,3,2]\n",
    "sum(list)"
   ]
  },
  {
   "cell_type": "markdown",
   "id": "ddcb2b70",
   "metadata": {},
   "source": [
    "write a program to Multiply all numbers in the list"
   ]
  },
  {
   "cell_type": "code",
   "execution_count": 96,
   "id": "f9a95cb8",
   "metadata": {},
   "outputs": [
    {
     "name": "stdout",
     "output_type": "stream",
     "text": [
      "2016\n"
     ]
    }
   ],
   "source": [
    "\n",
    "def mul(lst):\n",
    "    a = 1\n",
    "    for i in array:\n",
    "        a = (a * i)\n",
    "    return a\n",
    "lst = [1,8,7,9,4]\n",
    "print(mul(lst))\n"
   ]
  }
 ],
 "metadata": {
  "kernelspec": {
   "display_name": "Python 3",
   "language": "python",
   "name": "python3"
  },
  "language_info": {
   "codemirror_mode": {
    "name": "ipython",
    "version": 3
   },
   "file_extension": ".py",
   "mimetype": "text/x-python",
   "name": "python",
   "nbconvert_exporter": "python",
   "pygments_lexer": "ipython3",
   "version": "3.8.8"
  }
 },
 "nbformat": 4,
 "nbformat_minor": 5
}
