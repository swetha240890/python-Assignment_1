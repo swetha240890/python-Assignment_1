{
 "cells": [
  {
   "cell_type": "markdown",
   "id": "6715d94f",
   "metadata": {},
   "source": [
    "1 .Python Program for n-th Fibonacci number"
   ]
  },
  {
   "cell_type": "code",
   "execution_count": 3,
   "id": "3c94cc48",
   "metadata": {
    "scrolled": true
   },
   "outputs": [
    {
     "name": "stdout",
     "output_type": "stream",
     "text": [
      "Enter the number :5\n",
      "0\n",
      "1\n",
      "1\n",
      "2\n",
      "3\n",
      "5\n"
     ]
    }
   ],
   "source": [
    "n = int(input('Enter the number :'))\n",
    "x = 0\n",
    "y = 1\n",
    "print(x)\n",
    "print(y)\n",
    "for i in range(1,n):\n",
    "    z = x+y\n",
    "    x = y\n",
    "    y = z\n",
    "    print(z)\n",
    "    "
   ]
  },
  {
   "cell_type": "markdown",
   "id": "220fc428",
   "metadata": {},
   "source": [
    "2 .Python Program for How to check if a given number is Fibonacci number?"
   ]
  },
  {
   "cell_type": "code",
   "execution_count": 43,
   "id": "2f36f933",
   "metadata": {},
   "outputs": [
    {
     "name": "stdout",
     "output_type": "stream",
     "text": [
      "Enter the number:54\n",
      "54 is not a fiboncci number\n"
     ]
    }
   ],
   "source": [
    "n = int(input('Enter the number:'))\n",
    "import math\n",
    "def perfect_squre(x):\n",
    "    s = (math.sqrt(x)%1 == 0)\n",
    "    return s\n",
    "\n",
    "n1 = (5*n*n) + 4\n",
    "n2 = (5*n*n) - 4\n",
    "\n",
    "if  perfect_squre(n1) or  perfect_squre(n2):\n",
    "    print(n,\"is a fiboncci number\")\n",
    "else:\n",
    "    print(n,\"is not a fiboncci number\")\n",
    "    "
   ]
  },
  {
   "cell_type": "markdown",
   "id": "24594ce1",
   "metadata": {},
   "source": [
    "3.Python Program for n\\’th multiple of a number in Fibonacci Series"
   ]
  },
  {
   "cell_type": "code",
   "execution_count": 26,
   "id": "7a607a34",
   "metadata": {},
   "outputs": [
    {
     "name": "stdout",
     "output_type": "stream",
     "text": [
      "987\n"
     ]
    }
   ],
   "source": [
    "def Fibonacci(n):\n",
    "    if n<= 0:\n",
    "        print(\"Incorrect input\")\n",
    "\n",
    "    elif n == 1:\n",
    "        return 0\n",
    "   \n",
    "    elif n == 2:\n",
    "        return 1\n",
    "    else:\n",
    "        return Fibonacci(n-1)+Fibonacci(n-2)\n",
    "    \n",
    "print(Fibonacci(17))\n",
    " \n",
    " "
   ]
  },
  {
   "cell_type": "markdown",
   "id": "26082b37",
   "metadata": {},
   "source": [
    "4.  Program to print ASCII Value of a character"
   ]
  },
  {
   "cell_type": "code",
   "execution_count": 36,
   "id": "f19d2eef",
   "metadata": {},
   "outputs": [
    {
     "name": "stdout",
     "output_type": "stream",
     "text": [
      "enter the character :A\n",
      "The ASCII of  A is  65\n"
     ]
    }
   ],
   "source": [
    "ch = input('enter the character :')\n",
    "print( 'The ASCII of ',ch ,'is ',ord (ch))"
   ]
  },
  {
   "cell_type": "markdown",
   "id": "9bb19858",
   "metadata": {},
   "source": [
    "5.Python Program for Sum of squares of first n natural numbers"
   ]
  },
  {
   "cell_type": "code",
   "execution_count": 13,
   "id": "5ec76141",
   "metadata": {},
   "outputs": [
    {
     "name": "stdout",
     "output_type": "stream",
     "text": [
      "enter the number :10\n",
      "385.0\n"
     ]
    }
   ],
   "source": [
    "n = int(input('enter the number :'))\n",
    "if n <= 0:\n",
    "    print(n ,\"is not a natural number\")\n",
    "else:\n",
    "    sum = ((n *(n+1) * ((2*n) + 1))/6)\n",
    "    print(sum)"
   ]
  },
  {
   "cell_type": "markdown",
   "id": "1bacd704",
   "metadata": {},
   "source": [
    "or"
   ]
  },
  {
   "cell_type": "code",
   "execution_count": 36,
   "id": "48388a81",
   "metadata": {},
   "outputs": [
    {
     "data": {
      "text/plain": [
       "385"
      ]
     },
     "execution_count": 36,
     "metadata": {},
     "output_type": "execute_result"
    }
   ],
   "source": [
    "def naturalnumber(n): \n",
    "    sum = 0\n",
    "    for i in range(1,n+1):\n",
    "        sum += i**2\n",
    "    return sum\n",
    "naturalnumber(10)\n"
   ]
  },
  {
   "cell_type": "markdown",
   "id": "5baf5134",
   "metadata": {},
   "source": [
    "6 .Python Program for cube sum of natural numbers\n"
   ]
  },
  {
   "cell_type": "code",
   "execution_count": 15,
   "id": "6e5b02c1",
   "metadata": {},
   "outputs": [
    {
     "name": "stdout",
     "output_type": "stream",
     "text": [
      "enter the number :10\n",
      "3025.0\n"
     ]
    }
   ],
   "source": [
    "\n",
    "n = int(input('enter the number :'))\n",
    "if n <= 0:\n",
    "    print(n ,\"is not a natural number\")\n",
    "else:\n",
    "    sum = (n *(n+1)/2)**2\n",
    "    print(sum)"
   ]
  },
  {
   "cell_type": "markdown",
   "id": "6bf1745c",
   "metadata": {},
   "source": [
    "or"
   ]
  },
  {
   "cell_type": "code",
   "execution_count": 38,
   "id": "f68103a4",
   "metadata": {},
   "outputs": [
    {
     "data": {
      "text/plain": [
       "3025"
      ]
     },
     "execution_count": 38,
     "metadata": {},
     "output_type": "execute_result"
    }
   ],
   "source": [
    "def naturalnumber(n): \n",
    "    sum = 0\n",
    "    for i in range(1,n+1):\n",
    "        sum += i**3\n",
    "    return sum\n",
    "naturalnumber(10)\n",
    "\n",
    " "
   ]
  },
  {
   "cell_type": "markdown",
   "id": "41a72cb0",
   "metadata": {},
   "source": [
    "7. Python Program to find sum of array"
   ]
  },
  {
   "cell_type": "code",
   "execution_count": 3,
   "id": "bc0e458d",
   "metadata": {},
   "outputs": [
    {
     "name": "stdout",
     "output_type": "stream",
     "text": [
      "186\n"
     ]
    }
   ],
   "source": [
    "arr = [12,23,34,50,67]\n",
    "d = sum(arr)\n",
    "print(d)"
   ]
  },
  {
   "cell_type": "markdown",
   "id": "1a8114e4",
   "metadata": {},
   "source": [
    "8 .Python Program to find largest element in an array"
   ]
  },
  {
   "cell_type": "code",
   "execution_count": 4,
   "id": "29ab9e2b",
   "metadata": {},
   "outputs": [
    {
     "data": {
      "text/plain": [
       "67"
      ]
     },
     "execution_count": 4,
     "metadata": {},
     "output_type": "execute_result"
    }
   ],
   "source": [
    "arr = [12,23,34,50,67]\n",
    "max(arr)"
   ]
  },
  {
   "cell_type": "markdown",
   "id": "ba45896e",
   "metadata": {},
   "source": [
    "9.Python Program for array rotation"
   ]
  },
  {
   "cell_type": "code",
   "execution_count": 75,
   "id": "0011dbb6",
   "metadata": {},
   "outputs": [
    {
     "name": "stdout",
     "output_type": "stream",
     "text": [
      "Array after left rotation is:  [2, 3, 4, 5, 6, 7, 1]\n"
     ]
    }
   ],
   "source": [
    "def rotateArray(a,d):\n",
    "    temp = []\n",
    "    n=len(a)\n",
    "    for i in range(d,n):\n",
    "        temp.append(a[i])\n",
    "    i = 0\n",
    "    for i in range (0,d):\n",
    "        temp.append(a[i])\n",
    "    a=temp.copy()\n",
    "    return a\n",
    " \n",
    "arr = [1, 2, 3, 4, 5, 6, 7]\n",
    "print(\"Array after left rotation is: \", rotateArray(arr, 1))\n"
   ]
  },
  {
   "cell_type": "markdown",
   "id": "9472c704",
   "metadata": {},
   "source": [
    "10. Python Program for Reversal algorithm for array rotation"
   ]
  },
  {
   "cell_type": "code",
   "execution_count": 1,
   "id": "31d1a5fd",
   "metadata": {},
   "outputs": [
    {
     "name": "stdout",
     "output_type": "stream",
     "text": [
      "Enter the number of times for right rotation : 2\n",
      "[9, 10, 1, 2, 3, 4, 5, 6, 7, 8]\n"
     ]
    }
   ],
   "source": [
    "given_arr = [1, 2, 3, 4, 5, 6, 7, 8, 9, 10]\n",
    "l = len(given_arr)\n",
    "n = int(input('Enter the number of times for right rotation : '))\n",
    "\n",
    "for i in range(0, n):\n",
    "    last_element = given_arr[-1]\n",
    "\n",
    "    for j in range(l - 1, -1, -1):\n",
    "        given_arr[j] = given_arr[j - 1]\n",
    "        \n",
    "\n",
    "    given_arr[0] = last_element\n",
    "\n",
    "print(given_arr)"
   ]
  },
  {
   "cell_type": "markdown",
   "id": "9e757dbb",
   "metadata": {},
   "source": [
    "11 .Python Program to Split the array and add the first part to the end"
   ]
  },
  {
   "cell_type": "code",
   "execution_count": 64,
   "id": "fa6a2450",
   "metadata": {},
   "outputs": [
    {
     "name": "stdout",
     "output_type": "stream",
     "text": [
      "[3, 4, 5, 6, 1, 2]\n"
     ]
    }
   ],
   "source": [
    "arr = [1,2,3,4,5,6]\n",
    "new_arr1 = arr[0:2]\n",
    "new_arr2 = arr[2:6]\n",
    "print(new_arr2 + new_arr1)"
   ]
  },
  {
   "cell_type": "code",
   "execution_count": null,
   "id": "bd543bed",
   "metadata": {},
   "outputs": [],
   "source": []
  },
  {
   "cell_type": "code",
   "execution_count": null,
   "id": "c21cbc17",
   "metadata": {},
   "outputs": [],
   "source": []
  }
 ],
 "metadata": {
  "kernelspec": {
   "display_name": "Python 3",
   "language": "python",
   "name": "python3"
  },
  "language_info": {
   "codemirror_mode": {
    "name": "ipython",
    "version": 3
   },
   "file_extension": ".py",
   "mimetype": "text/x-python",
   "name": "python",
   "nbconvert_exporter": "python",
   "pygments_lexer": "ipython3",
   "version": "3.8.8"
  }
 },
 "nbformat": 4,
 "nbformat_minor": 5
}
