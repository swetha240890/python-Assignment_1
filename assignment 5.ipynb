{
 "cells": [
  {
   "cell_type": "markdown",
   "id": "de6f6061",
   "metadata": {},
   "source": [
    "Python program to print all negative numbers in a range\n"
   ]
  },
  {
   "cell_type": "code",
   "execution_count": 25,
   "id": "1c295419",
   "metadata": {},
   "outputs": [
    {
     "name": "stdout",
     "output_type": "stream",
     "text": [
      "enter the number 8\n",
      "-9,-8,-7,-6,-5,-4,-3,-2,-1,"
     ]
    }
   ],
   "source": [
    "n = int(input('enter the number '))\n",
    "for i in range(-9,n+1):\n",
    "    if i < 0:\n",
    "        print(i,end = ',')"
   ]
  },
  {
   "cell_type": "markdown",
   "id": "5df7ca20",
   "metadata": {},
   "source": [
    "Remove multiple elements from a list in Python"
   ]
  },
  {
   "cell_type": "code",
   "execution_count": 27,
   "id": "8d989401",
   "metadata": {},
   "outputs": [
    {
     "name": "stdout",
     "output_type": "stream",
     "text": [
      "[45, 90, 34, 70, 56, 35, 13]\n"
     ]
    }
   ],
   "source": [
    "list = [45,78,90,34,70,56,35,13]\n",
    "list.remove(78)\n",
    "print(list)\n",
    " \n",
    "     "
   ]
  },
  {
   "cell_type": "markdown",
   "id": "8c13669f",
   "metadata": {},
   "source": [
    "or\n"
   ]
  },
  {
   "cell_type": "code",
   "execution_count": 30,
   "id": "46d61cc7",
   "metadata": {},
   "outputs": [
    {
     "name": "stdout",
     "output_type": "stream",
     "text": [
      "[7, 9]\n"
     ]
    }
   ],
   "source": [
    "list = ['e','h',7,9]\n",
    "del list[0:2]\n",
    "print(list)"
   ]
  },
  {
   "cell_type": "markdown",
   "id": "aee2ed82",
   "metadata": {},
   "source": [
    "write a Python program to Remove empty List from List"
   ]
  },
  {
   "cell_type": "code",
   "execution_count": 48,
   "id": "fe647c82",
   "metadata": {},
   "outputs": [
    {
     "name": "stdout",
     "output_type": "stream",
     "text": [
      "[4, 5, 8, 9, 8]\n"
     ]
    }
   ],
   "source": [
    "list = [4,5,[],8,9,[],8]\n",
    "list_1 = []\n",
    "for l in list:\n",
    "    if l!=[]:\n",
    "        list_1.append(l)\n",
    "print(list_1)\n",
    "        \n"
   ]
  },
  {
   "cell_type": "markdown",
   "id": "bbf5bb2e",
   "metadata": {},
   "source": [
    "write a Python program to Cloning or Copying a list"
   ]
  },
  {
   "cell_type": "code",
   "execution_count": 51,
   "id": "dd32a9b5",
   "metadata": {},
   "outputs": [
    {
     "name": "stdout",
     "output_type": "stream",
     "text": [
      "[6, 8, 9, 5, 4]\n"
     ]
    }
   ],
   "source": [
    "list = [6,8,9,5,4]\n",
    "list_2 = list.copy()\n",
    "print(list_2)"
   ]
  },
  {
   "cell_type": "markdown",
   "id": "0484985b",
   "metadata": {},
   "source": [
    "write a Python program to Count occurrences of an element in a list\n"
   ]
  },
  {
   "cell_type": "code",
   "execution_count": 52,
   "id": "f80131e6",
   "metadata": {},
   "outputs": [
    {
     "name": "stdout",
     "output_type": "stream",
     "text": [
      "3\n"
     ]
    }
   ],
   "source": [
    "list = ['a','v','h','c','a','l','a']\n",
    "a = list.count('a')\n",
    "print(a)"
   ]
  },
  {
   "cell_type": "markdown",
   "id": "dd03b80d",
   "metadata": {},
   "source": [
    "write a Python program to Remove empty tuples from a list"
   ]
  },
  {
   "cell_type": "code",
   "execution_count": 57,
   "id": "84c50783",
   "metadata": {},
   "outputs": [
    {
     "name": "stdout",
     "output_type": "stream",
     "text": [
      "[4, 5, 8, 9, 8]\n"
     ]
    }
   ],
   "source": [
    "list = [4,5,(),8,9,(),8]\n",
    "list_1 = []\n",
    "for l in list:\n",
    "    if l!=():\n",
    "        list_1.append(l)\n",
    "print(list_1)\n",
    "        \n"
   ]
  },
  {
   "cell_type": "markdown",
   "id": "480a78a8",
   "metadata": {},
   "source": [
    "-write a Python program to Program to print duplicates from a list of integers"
   ]
  },
  {
   "cell_type": "code",
   "execution_count": 58,
   "id": "541c177f",
   "metadata": {},
   "outputs": [
    {
     "name": "stdout",
     "output_type": "stream",
     "text": [
      "[2, 6, 8, 9, 5, 1, 7]\n"
     ]
    }
   ],
   "source": [
    "list = [2,6,8,9,5,1,1,8,7,9,6,1]\n",
    "new_l = []\n",
    "for i in list:\n",
    "    if i not in new_l:\n",
    "        new_l.append(i)\n",
    "        \n",
    "print(new_l)"
   ]
  },
  {
   "cell_type": "markdown",
   "id": "1c77b8ee",
   "metadata": {},
   "source": [
    "write a Python program to find Cumulative sum of a list"
   ]
  },
  {
   "cell_type": "code",
   "execution_count": 69,
   "id": "98d50d9f",
   "metadata": {},
   "outputs": [
    {
     "name": "stdout",
     "output_type": "stream",
     "text": [
      "[20, 60, 90, 140]\n"
     ]
    }
   ],
   "source": [
    "list = [20,40,30,50]\n",
    "new_list = []\n",
    "i = 0\n",
    "for j in range(0,len(list)):\n",
    "    i+=list[j]\n",
    "    new_list.append(i)\n",
    "print(new_list)"
   ]
  },
  {
   "cell_type": "markdown",
   "id": "0871d74c",
   "metadata": {},
   "source": [
    "write a Python program to Sum of number digits in List"
   ]
  },
  {
   "cell_type": "code",
   "execution_count": 70,
   "id": "49ca2d47",
   "metadata": {},
   "outputs": [
    {
     "name": "stdout",
     "output_type": "stream",
     "text": [
      "34\n"
     ]
    }
   ],
   "source": [
    "list = [2,3,5,7,8,9]\n",
    "h = sum(list)\n",
    "print(h)"
   ]
  },
  {
   "cell_type": "markdown",
   "id": "55ae0ebe",
   "metadata": {},
   "source": [
    "write a Python program to Break a list into chunks of size N "
   ]
  },
  {
   "cell_type": "code",
   "execution_count": 86,
   "id": "a642c5ba",
   "metadata": {},
   "outputs": [
    {
     "name": "stdout",
     "output_type": "stream",
     "text": [
      "[4, 5, 4]\n",
      "[2, 7, 8]\n",
      "[9, 7, 6]\n",
      "[12, 13, 15]\n",
      "[17]\n"
     ]
    }
   ],
   "source": [
    "list = [4,5,4,2,7,8,9,7,6,12,13,15,17]\n",
    "n = 3\n",
    "for i in range(0,len(list),n):\n",
    "    y = list[i:i+n]\n",
    "    print(y)\n",
    "   "
   ]
  },
  {
   "cell_type": "markdown",
   "id": "71029865",
   "metadata": {},
   "source": [
    "write a Python program to Sort the values of first list using second list\n"
   ]
  },
  {
   "cell_type": "code",
   "execution_count": 90,
   "id": "0411bb70",
   "metadata": {},
   "outputs": [
    {
     "name": "stdout",
     "output_type": "stream",
     "text": [
      "['d', 'h', 'k', 'c', 'e', 'k', 'f', 'g']\n"
     ]
    }
   ],
   "source": [
    "def sort_list(list1, list2):\n",
    " \n",
    "    zipped_pairs = zip(list2, list1)\n",
    "    \n",
    "    n = [x for _, x in sorted(zipped_pairs)]\n",
    "    \n",
    "    return n\n",
    "\n",
    "x = [\"k\", \"k\", \"c\", \"d\", \"e\", \"f\", \"g\", \"h\"]\n",
    "y = [ 0,   1,   1,    0,   1,   2,   2,   0]\n",
    " \n",
    "print(sort_list(x, y))"
   ]
  }
 ],
 "metadata": {
  "kernelspec": {
   "display_name": "Python 3",
   "language": "python",
   "name": "python3"
  },
  "language_info": {
   "codemirror_mode": {
    "name": "ipython",
    "version": 3
   },
   "file_extension": ".py",
   "mimetype": "text/x-python",
   "name": "python",
   "nbconvert_exporter": "python",
   "pygments_lexer": "ipython3",
   "version": "3.8.8"
  }
 },
 "nbformat": 4,
 "nbformat_minor": 5
}
