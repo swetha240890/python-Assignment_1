{
 "cells": [
  {
   "cell_type": "markdown",
   "id": "2343d7d8",
   "metadata": {},
   "source": [
    "Python program to find smallest number in a list"
   ]
  },
  {
   "cell_type": "code",
   "execution_count": 3,
   "id": "25761de9",
   "metadata": {},
   "outputs": [
    {
     "name": "stdout",
     "output_type": "stream",
     "text": [
      "The smallest number in a list is 4\n"
     ]
    }
   ],
   "source": [
    "list = [4,7,78,56,9]\n",
    "print('The smallest number in a list is',min(list))"
   ]
  },
  {
   "cell_type": "markdown",
   "id": "e755a9ca",
   "metadata": {},
   "source": [
    "Python program to find largest number in a list"
   ]
  },
  {
   "cell_type": "code",
   "execution_count": 4,
   "id": "b3a3060a",
   "metadata": {
    "scrolled": true
   },
   "outputs": [
    {
     "name": "stdout",
     "output_type": "stream",
     "text": [
      "The largest number in a list is 78\n"
     ]
    }
   ],
   "source": [
    "list = [4,7,78,56,9]\n",
    "print('The largest number in a list is',max(list))"
   ]
  },
  {
   "cell_type": "markdown",
   "id": "de14e82c",
   "metadata": {},
   "source": [
    "Python program to find second largest number in a list"
   ]
  },
  {
   "cell_type": "code",
   "execution_count": 22,
   "id": "2e14971e",
   "metadata": {},
   "outputs": [
    {
     "data": {
      "text/plain": [
       "56"
      ]
     },
     "execution_count": 22,
     "metadata": {},
     "output_type": "execute_result"
    }
   ],
   "source": [
    "list = [4,7,78,56,9]\n",
    "list.remove(max(list))\n",
    "max(list)\n",
    "\n"
   ]
  },
  {
   "cell_type": "markdown",
   "id": "4984e6e5",
   "metadata": {},
   "source": [
    "Python program to find N largest elements from a list"
   ]
  },
  {
   "cell_type": "code",
   "execution_count": 5,
   "id": "be46ff28",
   "metadata": {},
   "outputs": [
    {
     "data": {
      "text/plain": [
       "[9, 45]"
      ]
     },
     "execution_count": 5,
     "metadata": {},
     "output_type": "execute_result"
    }
   ],
   "source": [
    "list = [6,8,9,45]\n",
    "n = 2\n",
    "l = sorted(list)\n",
    "l[-n:]\n",
    "\n",
    "\n"
   ]
  },
  {
   "cell_type": "markdown",
   "id": "60a14f8c",
   "metadata": {},
   "source": [
    "Python program to print even numbers in a list"
   ]
  },
  {
   "cell_type": "code",
   "execution_count": 1,
   "id": "2b14e6d9",
   "metadata": {},
   "outputs": [
    {
     "name": "stdout",
     "output_type": "stream",
     "text": [
      "4,2,8,"
     ]
    }
   ],
   "source": [
    "list = [3,4,7,2,9,8]\n",
    "for i in list:\n",
    "    if i%2 == 0:\n",
    "        print(i , end= ',')\n",
    "    \n",
    "    \n"
   ]
  },
  {
   "cell_type": "markdown",
   "id": "5e135c76",
   "metadata": {},
   "source": [
    "Python program to print odd numbers in a List"
   ]
  },
  {
   "cell_type": "code",
   "execution_count": 2,
   "id": "7c250620",
   "metadata": {},
   "outputs": [
    {
     "name": "stdout",
     "output_type": "stream",
     "text": [
      "3,7,9,"
     ]
    }
   ],
   "source": [
    "list = [3,4,7,2,9,8]\n",
    "for i in list:\n",
    "    if i%2 != 0:\n",
    "        print(i , end= ',')"
   ]
  },
  {
   "cell_type": "markdown",
   "id": "154efa3b",
   "metadata": {},
   "source": [
    "Python program to print all even numbers in a range"
   ]
  },
  {
   "cell_type": "code",
   "execution_count": 2,
   "id": "46e73315",
   "metadata": {},
   "outputs": [
    {
     "name": "stdout",
     "output_type": "stream",
     "text": [
      "enter the number 80\n",
      "2,4,6,8,10,12,14,16,18,20,22,24,26,28,30,32,34,36,38,40,42,44,46,48,50,52,54,56,58,60,62,64,66,68,70,72,74,76,78,80,"
     ]
    }
   ],
   "source": [
    "n = int(input('enter the number '))\n",
    "for i in range(1,n+1):\n",
    "    if i%2 == 0:\n",
    "        print(i,end = ',')"
   ]
  },
  {
   "cell_type": "markdown",
   "id": "d51a3a24",
   "metadata": {},
   "source": [
    "Python program to print all odd numbers in a range"
   ]
  },
  {
   "cell_type": "code",
   "execution_count": 3,
   "id": "fe34a298",
   "metadata": {},
   "outputs": [
    {
     "name": "stdout",
     "output_type": "stream",
     "text": [
      "enter the number 80\n",
      "1,3,5,7,9,11,13,15,17,19,21,23,25,27,29,31,33,35,37,39,41,43,45,47,49,51,53,55,57,59,61,63,65,67,69,71,73,75,77,79,"
     ]
    }
   ],
   "source": [
    "n = int(input('enter the number '))\n",
    "for i in range(1,n+1):\n",
    "    if i%2 != 0:\n",
    "        print(i,end = ',')"
   ]
  },
  {
   "cell_type": "markdown",
   "id": "c8c1a6f3",
   "metadata": {},
   "source": [
    "Python program to print positive numbers in a list"
   ]
  },
  {
   "cell_type": "code",
   "execution_count": 4,
   "id": "526be186",
   "metadata": {},
   "outputs": [
    {
     "name": "stdout",
     "output_type": "stream",
     "text": [
      "3,7,9,8,"
     ]
    }
   ],
   "source": [
    "list = [3,-4,7,-2,9,8]\n",
    "for i in list:\n",
    "    if i >= 0:\n",
    "        print(i , end= ',')"
   ]
  },
  {
   "cell_type": "markdown",
   "id": "8c5bf0df",
   "metadata": {},
   "source": [
    "Python program to print negative numbers in a list"
   ]
  },
  {
   "cell_type": "code",
   "execution_count": 10,
   "id": "e5cd81ce",
   "metadata": {},
   "outputs": [
    {
     "name": "stdout",
     "output_type": "stream",
     "text": [
      "-4,-2,"
     ]
    }
   ],
   "source": [
    "list = [3,-4,7,-2,9,8]\n",
    "for i in list:\n",
    "    if i < 0:\n",
    "        print(i , end= ',')"
   ]
  },
  {
   "cell_type": "markdown",
   "id": "88b5a966",
   "metadata": {},
   "source": [
    "Python program to print all positive numbers in a range\n"
   ]
  },
  {
   "cell_type": "code",
   "execution_count": 7,
   "id": "835ae494",
   "metadata": {},
   "outputs": [
    {
     "name": "stdout",
     "output_type": "stream",
     "text": [
      "enter the number 10\n",
      "0,1,2,3,4,5,6,7,8,9,10,"
     ]
    }
   ],
   "source": [
    "n = int(input('enter the number '))\n",
    "for i in range(-9,n+1):\n",
    "    if i >= 0:\n",
    "        print(i,end = ',')"
   ]
  },
  {
   "cell_type": "markdown",
   "id": "17d68183",
   "metadata": {},
   "source": [
    "Python program to print all negative numbers in a range\n"
   ]
  },
  {
   "cell_type": "code",
   "execution_count": 9,
   "id": "9333835f",
   "metadata": {},
   "outputs": [
    {
     "name": "stdout",
     "output_type": "stream",
     "text": [
      "enter the number 65\n",
      "-9,-8,-7,-6,-5,-4,-3,-2,-1,"
     ]
    }
   ],
   "source": [
    "n = int(input('enter the number '))\n",
    "for i in range(-9,n+1):\n",
    "    if i < 0:\n",
    "        print(i,end = ',')"
   ]
  },
  {
   "cell_type": "code",
   "execution_count": null,
   "id": "79f37ef6",
   "metadata": {},
   "outputs": [],
   "source": []
  }
 ],
 "metadata": {
  "kernelspec": {
   "display_name": "Python 3",
   "language": "python",
   "name": "python3"
  },
  "language_info": {
   "codemirror_mode": {
    "name": "ipython",
    "version": 3
   },
   "file_extension": ".py",
   "mimetype": "text/x-python",
   "name": "python",
   "nbconvert_exporter": "python",
   "pygments_lexer": "ipython3",
   "version": "3.8.8"
  }
 },
 "nbformat": 4,
 "nbformat_minor": 5
}
