{
 "cells": [
  {
   "cell_type": "code",
   "execution_count": 1,
   "id": "1c2462b7",
   "metadata": {},
   "outputs": [],
   "source": [
    "import numpy as np\n",
    "import pandas as pd"
   ]
  },
  {
   "cell_type": "markdown",
   "id": "856475af",
   "metadata": {},
   "source": [
    "Python program to add two Matrices"
   ]
  },
  {
   "cell_type": "code",
   "execution_count": 12,
   "id": "ab56ad4e",
   "metadata": {},
   "outputs": [
    {
     "name": "stdout",
     "output_type": "stream",
     "text": [
      "[[1 3 5 6]\n",
      " [5 6 7 2]]\n"
     ]
    }
   ],
   "source": [
    "list = [1,3,5,6]\n",
    "list_1 = [5,6,7,2]\n",
    "m_1 = np.array([list,list_1])\n",
    "print(m_1)"
   ]
  },
  {
   "cell_type": "code",
   "execution_count": 13,
   "id": "610c4b4f",
   "metadata": {},
   "outputs": [
    {
     "name": "stdout",
     "output_type": "stream",
     "text": [
      "[[8 9 5 8]\n",
      " [3 2 4 1]]\n"
     ]
    }
   ],
   "source": [
    "list_2 = [8,9,5,8]\n",
    "list_3 = [3,2,4,1]\n",
    "m_2 = np.array([list_2,list_3])\n",
    "print(m_2)"
   ]
  },
  {
   "cell_type": "code",
   "execution_count": 11,
   "id": "912e20d6",
   "metadata": {},
   "outputs": [
    {
     "name": "stdout",
     "output_type": "stream",
     "text": [
      "[[ 9 12 10 14]\n",
      " [ 8  8 11  3]]\n"
     ]
    }
   ],
   "source": [
    "c = m_1 + m_2\n",
    "print(c)"
   ]
  },
  {
   "cell_type": "markdown",
   "id": "288d644a",
   "metadata": {},
   "source": [
    "Python program to multiply two matrices"
   ]
  },
  {
   "cell_type": "code",
   "execution_count": 19,
   "id": "b8dcf724",
   "metadata": {},
   "outputs": [
    {
     "name": "stdout",
     "output_type": "stream",
     "text": [
      "matrix 1 = [[1 3 5 6]\n",
      " [5 6 7 2]]\n",
      "matrix 2 =  [[8 9 5 8]\n",
      " [3 2 4 1]]\n",
      "multiplication of matrices = [[ 8 27 25 48]\n",
      " [15 12 28  2]]\n"
     ]
    }
   ],
   "source": [
    "print('matrix 1 =' ,m_1)\n",
    "print('matrix 2 = ',m_2)\n",
    "matrix_mul = m_1 * m_2\n",
    "print('multiplication of matrices =',matrix_mul)"
   ]
  },
  {
   "cell_type": "markdown",
   "id": "f4959084",
   "metadata": {},
   "source": [
    "Python program for Matrix Product"
   ]
  },
  {
   "cell_type": "code",
   "execution_count": 50,
   "id": "2be58c6b",
   "metadata": {},
   "outputs": [
    {
     "data": {
      "text/plain": [
       "37800"
      ]
     },
     "execution_count": 50,
     "metadata": {},
     "output_type": "execute_result"
    }
   ],
   "source": [
    "np.prod(m_1)"
   ]
  },
  {
   "cell_type": "markdown",
   "id": "221aca78",
   "metadata": {},
   "source": [
    "Adding and Subtracting Matrices in Python"
   ]
  },
  {
   "cell_type": "code",
   "execution_count": 51,
   "id": "7b6a8118",
   "metadata": {},
   "outputs": [
    {
     "name": "stdout",
     "output_type": "stream",
     "text": [
      "[[ 9 12 10 14]\n",
      " [ 8  8 11  3]]\n"
     ]
    }
   ],
   "source": [
    "sum = m_1 +m_2\n",
    "print(sum)"
   ]
  },
  {
   "cell_type": "code",
   "execution_count": 52,
   "id": "378ff32b",
   "metadata": {},
   "outputs": [
    {
     "name": "stdout",
     "output_type": "stream",
     "text": [
      "[[-7 -6  0 -2]\n",
      " [ 2  4  3  1]]\n"
     ]
    }
   ],
   "source": [
    "sub = m_1 - m_2\n",
    "print(sub)"
   ]
  },
  {
   "cell_type": "markdown",
   "id": "8aad8a9c",
   "metadata": {},
   "source": [
    "Transpose a matrix in Single line in Python"
   ]
  },
  {
   "cell_type": "code",
   "execution_count": 53,
   "id": "7611885e",
   "metadata": {},
   "outputs": [
    {
     "data": {
      "text/plain": [
       "array([[1, 5],\n",
       "       [3, 6],\n",
       "       [5, 7],\n",
       "       [6, 2]])"
      ]
     },
     "execution_count": 53,
     "metadata": {},
     "output_type": "execute_result"
    }
   ],
   "source": [
    "np.transpose(m_1)"
   ]
  },
  {
   "cell_type": "markdown",
   "id": "afa7410e",
   "metadata": {},
   "source": [
    "Python | Matrix creation of n*n"
   ]
  },
  {
   "cell_type": "code",
   "execution_count": 4,
   "id": "edd74f43",
   "metadata": {},
   "outputs": [
    {
     "data": {
      "text/plain": [
       "array([[0.3842804 , 0.40405994, 0.84443898, 0.97968907],\n",
       "       [0.46065485, 0.48460678, 0.25808241, 0.33989471],\n",
       "       [0.52453713, 0.61651173, 0.1297885 , 0.94578507],\n",
       "       [0.13615581, 0.50204488, 0.64498357, 0.21841522]])"
      ]
     },
     "execution_count": 4,
     "metadata": {},
     "output_type": "execute_result"
    }
   ],
   "source": [
    "np.random.rand(4,4)"
   ]
  },
  {
   "cell_type": "markdown",
   "id": "80c06e43",
   "metadata": {},
   "source": [
    "Python | Get Kth Column of Matrix"
   ]
  },
  {
   "cell_type": "code",
   "execution_count": 8,
   "id": "3c69ff83",
   "metadata": {},
   "outputs": [
    {
     "name": "stdout",
     "output_type": "stream",
     "text": [
      "[[0.42992195 0.47735539 0.27652832]\n",
      " [0.54604168 0.84655475 0.3822883 ]\n",
      " [0.58952082 0.85275965 0.52394203]]\n"
     ]
    }
   ],
   "source": [
    "a = np.random.rand(3,3)\n",
    "print(a)"
   ]
  },
  {
   "cell_type": "code",
   "execution_count": 11,
   "id": "69956b46",
   "metadata": {},
   "outputs": [
    {
     "data": {
      "text/plain": [
       "array([0.47735539, 0.84655475, 0.85275965])"
      ]
     },
     "execution_count": 11,
     "metadata": {},
     "output_type": "execute_result"
    }
   ],
   "source": [
    "a[:,1]"
   ]
  },
  {
   "cell_type": "markdown",
   "id": "96b57238",
   "metadata": {},
   "source": [
    "Python – Vertical Concatenation in Matrix"
   ]
  },
  {
   "cell_type": "code",
   "execution_count": 19,
   "id": "ddcdd32e",
   "metadata": {},
   "outputs": [
    {
     "name": "stdout",
     "output_type": "stream",
     "text": [
      "[[0.16374265 0.30688363]\n",
      " [0.67330414 0.97601693]\n",
      " [0.79338603 0.19843279]]\n"
     ]
    }
   ],
   "source": [
    "b = np.random.rand(3,2)\n",
    "print(b)\n"
   ]
  },
  {
   "cell_type": "code",
   "execution_count": 20,
   "id": "40a427c4",
   "metadata": {},
   "outputs": [
    {
     "name": "stdout",
     "output_type": "stream",
     "text": [
      "[[0.57500831 0.28353992]\n",
      " [0.46771005 0.6351683 ]\n",
      " [0.2487001  0.81743996]]\n"
     ]
    }
   ],
   "source": [
    "c = np.random.rand(3,2)\n",
    "print(c)"
   ]
  },
  {
   "cell_type": "code",
   "execution_count": 21,
   "id": "fbce4d19",
   "metadata": {},
   "outputs": [
    {
     "data": {
      "text/plain": [
       "array([[0.16374265, 0.30688363],\n",
       "       [0.67330414, 0.97601693],\n",
       "       [0.79338603, 0.19843279],\n",
       "       [0.57500831, 0.28353992],\n",
       "       [0.46771005, 0.6351683 ],\n",
       "       [0.2487001 , 0.81743996]])"
      ]
     },
     "execution_count": 21,
     "metadata": {},
     "output_type": "execute_result"
    }
   ],
   "source": [
    "np.concatenate((b, c), axis=0)"
   ]
  },
  {
   "cell_type": "markdown",
   "id": "cfa7a55f",
   "metadata": {},
   "source": [
    "Python program to check if a string is palindrome or not"
   ]
  },
  {
   "cell_type": "code",
   "execution_count": 29,
   "id": "66326409",
   "metadata": {},
   "outputs": [
    {
     "name": "stdout",
     "output_type": "stream",
     "text": [
      "yes\n"
     ]
    }
   ],
   "source": [
    "def palindrome(s): \n",
    "    \n",
    "    for i in range(0,int(len(s)/2)):\n",
    "        if s[i] == s[len(s)-i-1]:\n",
    "            return True\n",
    "    return False\n",
    "s = 'wertrew'\n",
    "ans = palindrome(s)\n",
    "if ans:\n",
    "    print('yes')\n",
    "else:\n",
    "    print('no')"
   ]
  },
  {
   "cell_type": "markdown",
   "id": "9d84fe0b",
   "metadata": {},
   "source": [
    "Python program to check whether the string is Symmetrical or Palindrome\n"
   ]
  },
  {
   "cell_type": "code",
   "execution_count": 28,
   "id": "781f1a72",
   "metadata": {},
   "outputs": [
    {
     "name": "stdout",
     "output_type": "stream",
     "text": [
      "yes, it is palindrome\n",
      "it is not symmetrical\n"
     ]
    }
   ],
   "source": [
    "def palindrome(s): \n",
    "    \n",
    "    for i in range(0,int(len(s)/2)):\n",
    "        if s[i] == s[len(s)-i-1]:\n",
    "            return True\n",
    "    return False\n",
    "s = 'wertrew'\n",
    "ans = palindrome(s)\n",
    "if ans:\n",
    "    print('yes, it is palindrome')\n",
    "else:\n",
    "    print('it is not palindrome')\n",
    "    \n",
    "def symmetrical(s): \n",
    "    \n",
    "    for i in range(0,(int(len(s)/2)-1)):\n",
    "        if s[i] == s[int((len(s)/2)+i)]:\n",
    "            return True\n",
    "    return False\n",
    "s = 'wertrew'\n",
    "ans = symmetrical(s)\n",
    "if ans:\n",
    "    print('yes it is symmetrical')\n",
    "else:\n",
    "    print('it is not symmetrical')"
   ]
  }
 ],
 "metadata": {
  "kernelspec": {
   "display_name": "Python 3",
   "language": "python",
   "name": "python3"
  },
  "language_info": {
   "codemirror_mode": {
    "name": "ipython",
    "version": 3
   },
   "file_extension": ".py",
   "mimetype": "text/x-python",
   "name": "python",
   "nbconvert_exporter": "python",
   "pygments_lexer": "ipython3",
   "version": "3.8.8"
  }
 },
 "nbformat": 4,
 "nbformat_minor": 5
}
